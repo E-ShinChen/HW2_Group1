{
 "cells": [
  {
   "cell_type": "code",
   "execution_count": 1,
   "id": "2ad29b69",
   "metadata": {
    "scrolled": true
   },
   "outputs": [
    {
     "name": "stderr",
     "output_type": "stream",
     "text": [
      "Using TensorFlow backend.\n",
      "C:\\Users\\user\\Anaconda3\\envs\\tensorflow\\lib\\site-packages\\tensorflow\\python\\framework\\dtypes.py:516: FutureWarning: Passing (type, 1) or '1type' as a synonym of type is deprecated; in a future version of numpy, it will be understood as (type, (1,)) / '(1,)type'.\n",
      "  _np_qint8 = np.dtype([(\"qint8\", np.int8, 1)])\n",
      "C:\\Users\\user\\Anaconda3\\envs\\tensorflow\\lib\\site-packages\\tensorflow\\python\\framework\\dtypes.py:517: FutureWarning: Passing (type, 1) or '1type' as a synonym of type is deprecated; in a future version of numpy, it will be understood as (type, (1,)) / '(1,)type'.\n",
      "  _np_quint8 = np.dtype([(\"quint8\", np.uint8, 1)])\n",
      "C:\\Users\\user\\Anaconda3\\envs\\tensorflow\\lib\\site-packages\\tensorflow\\python\\framework\\dtypes.py:518: FutureWarning: Passing (type, 1) or '1type' as a synonym of type is deprecated; in a future version of numpy, it will be understood as (type, (1,)) / '(1,)type'.\n",
      "  _np_qint16 = np.dtype([(\"qint16\", np.int16, 1)])\n",
      "C:\\Users\\user\\Anaconda3\\envs\\tensorflow\\lib\\site-packages\\tensorflow\\python\\framework\\dtypes.py:519: FutureWarning: Passing (type, 1) or '1type' as a synonym of type is deprecated; in a future version of numpy, it will be understood as (type, (1,)) / '(1,)type'.\n",
      "  _np_quint16 = np.dtype([(\"quint16\", np.uint16, 1)])\n",
      "C:\\Users\\user\\Anaconda3\\envs\\tensorflow\\lib\\site-packages\\tensorflow\\python\\framework\\dtypes.py:520: FutureWarning: Passing (type, 1) or '1type' as a synonym of type is deprecated; in a future version of numpy, it will be understood as (type, (1,)) / '(1,)type'.\n",
      "  _np_qint32 = np.dtype([(\"qint32\", np.int32, 1)])\n",
      "C:\\Users\\user\\Anaconda3\\envs\\tensorflow\\lib\\site-packages\\tensorflow\\python\\framework\\dtypes.py:525: FutureWarning: Passing (type, 1) or '1type' as a synonym of type is deprecated; in a future version of numpy, it will be understood as (type, (1,)) / '(1,)type'.\n",
      "  np_resource = np.dtype([(\"resource\", np.ubyte, 1)])\n",
      "C:\\Users\\user\\Anaconda3\\envs\\tensorflow\\lib\\site-packages\\tensorboard\\compat\\tensorflow_stub\\dtypes.py:541: FutureWarning: Passing (type, 1) or '1type' as a synonym of type is deprecated; in a future version of numpy, it will be understood as (type, (1,)) / '(1,)type'.\n",
      "  _np_qint8 = np.dtype([(\"qint8\", np.int8, 1)])\n",
      "C:\\Users\\user\\Anaconda3\\envs\\tensorflow\\lib\\site-packages\\tensorboard\\compat\\tensorflow_stub\\dtypes.py:542: FutureWarning: Passing (type, 1) or '1type' as a synonym of type is deprecated; in a future version of numpy, it will be understood as (type, (1,)) / '(1,)type'.\n",
      "  _np_quint8 = np.dtype([(\"quint8\", np.uint8, 1)])\n",
      "C:\\Users\\user\\Anaconda3\\envs\\tensorflow\\lib\\site-packages\\tensorboard\\compat\\tensorflow_stub\\dtypes.py:543: FutureWarning: Passing (type, 1) or '1type' as a synonym of type is deprecated; in a future version of numpy, it will be understood as (type, (1,)) / '(1,)type'.\n",
      "  _np_qint16 = np.dtype([(\"qint16\", np.int16, 1)])\n",
      "C:\\Users\\user\\Anaconda3\\envs\\tensorflow\\lib\\site-packages\\tensorboard\\compat\\tensorflow_stub\\dtypes.py:544: FutureWarning: Passing (type, 1) or '1type' as a synonym of type is deprecated; in a future version of numpy, it will be understood as (type, (1,)) / '(1,)type'.\n",
      "  _np_quint16 = np.dtype([(\"quint16\", np.uint16, 1)])\n",
      "C:\\Users\\user\\Anaconda3\\envs\\tensorflow\\lib\\site-packages\\tensorboard\\compat\\tensorflow_stub\\dtypes.py:545: FutureWarning: Passing (type, 1) or '1type' as a synonym of type is deprecated; in a future version of numpy, it will be understood as (type, (1,)) / '(1,)type'.\n",
      "  _np_qint32 = np.dtype([(\"qint32\", np.int32, 1)])\n",
      "C:\\Users\\user\\Anaconda3\\envs\\tensorflow\\lib\\site-packages\\tensorboard\\compat\\tensorflow_stub\\dtypes.py:550: FutureWarning: Passing (type, 1) or '1type' as a synonym of type is deprecated; in a future version of numpy, it will be understood as (type, (1,)) / '(1,)type'.\n",
      "  np_resource = np.dtype([(\"resource\", np.ubyte, 1)])\n"
     ]
    }
   ],
   "source": [
    "from sklearn import metrics\n",
    "from sklearn.model_selection import  train_test_split\n",
    "from keras.preprocessing.image import ImageDataGenerator\n",
    "from keras.preprocessing.image import *\n",
    "from keras.preprocessing.image import img_to_array\n",
    "\n",
    "from keras import layers\n",
    "from keras import models\n",
    "from keras.utils import np_utils\n",
    "from keras.utils import to_categorical\n",
    "from keras import optimizers\n",
    "import tensorflow as tf\n",
    "import keras\n",
    "from keras.models import Model\n",
    "from keras.layers import Dense, Conv2D, BatchNormalization, Activation\n",
    "from keras.layers import Input, MaxPooling2D, Dropout, Flatten\n",
    "from keras import regularizers\n",
    "from keras.models import load_model, model_from_yaml\n",
    "from keras.applications.resnet50 import ResNet50\n",
    "from keras.applications.mobilenet_v2 import MobileNetV2\n",
    "from keras.applications.vgg19 import VGG19\n",
    "from keras.applications.vgg16 import VGG16\n",
    "from keras.applications.inception_v3 import InceptionV3\n",
    "from keras.callbacks import EarlyStopping, ModelCheckpoint\n",
    "from keras import optimizers\n",
    "from datetime import datetime\n",
    "import csv\n",
    "import random\n",
    "import cv2\n",
    "import numpy as np\n",
    "import os\n",
    "import matplotlib.pyplot as plt\n",
    "import pandas as pd\n",
    "from sklearn.preprocessing import LabelEncoder\n",
    "from tqdm import tqdm\n",
    "le = LabelEncoder()"
   ]
  },
  {
   "cell_type": "code",
   "execution_count": null,
   "id": "5ee479be",
   "metadata": {
    "scrolled": true
   },
   "outputs": [
    {
     "name": "stderr",
     "output_type": "stream",
     "text": [
      " 61%|████████████████████████████████████████████████████████████████████████████████████████████▌                                                           | 3732/6130 [00:39<00:26, 90.77it/s]"
     ]
    }
   ],
   "source": [
    "df = pd.read_csv('train.csv')\n",
    "testdf = pd.read_csv('test.csv')\n",
    "le = le.fit([\"A\",\"B\",\"C\"])\n",
    "\n",
    "\n",
    "label = np.array(to_categorical(le.transform(df['label']),3))\n",
    "test_label = np.array(to_categorical(le.transform(testdf['label']),3))\n",
    "image_path = df['image_id']\n",
    "test_im_path = testdf['image_id']\n",
    "image_path = [os.path.join(os.getcwd(),\"Train_image\",i) for i in image_path]\n",
    "test_im_path = [os.path.join(os.getcwd(),\"Test_image\",i) for i in test_im_path]\n",
    "\n",
    "im = [cv2.imread(image_path[i]) for i in tqdm(range(len(image_path)))]\n",
    "im = [np.array(img_to_array(cv2.resize(image,(256,256),interpolation=cv2.INTER_LINEAR))/255.0) for image in tqdm(im)]\n",
    "\n",
    "test_im = [cv2.imread(test_im_path[i]) for i in tqdm(range(len(test_im_path)))]\n",
    "test_im = [np.array(img_to_array(cv2.resize(image,(256,256),interpolation=cv2.INTER_LINEAR))/255.0) for image in tqdm(test_im)]"
   ]
  },
  {
   "cell_type": "code",
   "execution_count": 3,
   "id": "3083594e",
   "metadata": {},
   "outputs": [
    {
     "name": "stdout",
     "output_type": "stream",
     "text": [
      "(4904, 256, 256, 3) (1226, 256, 256, 3) (4904, 3) (1226, 3)\n"
     ]
    }
   ],
   "source": [
    "X,val_X,Y,val_Y = train_test_split(np.array(im),np.array(label),test_size=0.2,random_state=8763)\n",
    "print(X.shape,val_X.shape,Y.shape,val_Y.shape )"
   ]
  },
  {
   "cell_type": "code",
   "execution_count": 4,
   "id": "ec03ab9a",
   "metadata": {},
   "outputs": [],
   "source": [
    "def conv2d_bn(x,filters, num_row,num_col,padding='same',strides=(1, 1),name=None):\n",
    "    x = Conv2D(\n",
    "        filters, (num_row, num_col),\n",
    "        strides=strides,\n",
    "        padding=padding,\n",
    "        use_bias=False,\n",
    "        name=name)(x)\n",
    "    x = layers.BatchNormalization(axis=3, scale=False)(x)\n",
    "    x = layers.Activation('relu')(x)\n",
    "    return x\n",
    "def get_model(w=256,h=256,ch=3):\n",
    "    inputs = keras.Input((w, h, ch))\n",
    "    \n",
    "    x = conv2d_bn(inputs,32,3,3,strides=(2,2))\n",
    "    x = MaxPooling2D(pool_size=3,strides=1)(x)\n",
    "    x = conv2d_bn(x,64,3,3)\n",
    "    x = MaxPooling2D(pool_size=3,strides=2)(x)\n",
    "    x = conv2d_bn(x,96,3,3)\n",
    "    x = MaxPooling2D(pool_size=3,strides=1)(x)\n",
    "    x = conv2d_bn(x,128,3,3)\n",
    "    x = MaxPooling2D(pool_size=3,strides=2)(x)\n",
    "    x = conv2d_bn(x,256,3,3)\n",
    "    x = MaxPooling2D(pool_size=3,strides=2)(x)\n",
    "    flatten_layer = Flatten()(x)\n",
    "    dense_layer_1 = Dense(512,activation='relu')(flatten_layer)\n",
    "    dense_layer_2 = Dense(256,activation='relu')(dense_layer_1)\n",
    "    outputs = Dense(3,activation='softmax')(dense_layer_2)\n",
    "    model = keras.Model(inputs,outputs,name=\"mangoNet\")\n",
    "    return model"
   ]
  },
  {
   "cell_type": "code",
   "execution_count": 5,
   "id": "c03d191f",
   "metadata": {
    "scrolled": true
   },
   "outputs": [
    {
     "name": "stdout",
     "output_type": "stream",
     "text": [
      "WARNING:tensorflow:From C:\\Users\\user\\Anaconda3\\envs\\tensorflow\\lib\\site-packages\\keras\\backend\\tensorflow_backend.py:4070: The name tf.nn.max_pool is deprecated. Please use tf.nn.max_pool2d instead.\n",
      "\n",
      "Model: \"mangoNet\"\n",
      "_________________________________________________________________\n",
      "Layer (type)                 Output Shape              Param #   \n",
      "=================================================================\n",
      "input_1 (InputLayer)         (None, 256, 256, 3)       0         \n",
      "_________________________________________________________________\n",
      "conv2d_1 (Conv2D)            (None, 128, 128, 32)      864       \n",
      "_________________________________________________________________\n",
      "batch_normalization_1 (Batch (None, 128, 128, 32)      96        \n",
      "_________________________________________________________________\n",
      "activation_1 (Activation)    (None, 128, 128, 32)      0         \n",
      "_________________________________________________________________\n",
      "max_pooling2d_1 (MaxPooling2 (None, 126, 126, 32)      0         \n",
      "_________________________________________________________________\n",
      "conv2d_2 (Conv2D)            (None, 126, 126, 64)      18432     \n",
      "_________________________________________________________________\n",
      "batch_normalization_2 (Batch (None, 126, 126, 64)      192       \n",
      "_________________________________________________________________\n",
      "activation_2 (Activation)    (None, 126, 126, 64)      0         \n",
      "_________________________________________________________________\n",
      "max_pooling2d_2 (MaxPooling2 (None, 62, 62, 64)        0         \n",
      "_________________________________________________________________\n",
      "conv2d_3 (Conv2D)            (None, 62, 62, 96)        55296     \n",
      "_________________________________________________________________\n",
      "batch_normalization_3 (Batch (None, 62, 62, 96)        288       \n",
      "_________________________________________________________________\n",
      "activation_3 (Activation)    (None, 62, 62, 96)        0         \n",
      "_________________________________________________________________\n",
      "max_pooling2d_3 (MaxPooling2 (None, 60, 60, 96)        0         \n",
      "_________________________________________________________________\n",
      "conv2d_4 (Conv2D)            (None, 60, 60, 128)       110592    \n",
      "_________________________________________________________________\n",
      "batch_normalization_4 (Batch (None, 60, 60, 128)       384       \n",
      "_________________________________________________________________\n",
      "activation_4 (Activation)    (None, 60, 60, 128)       0         \n",
      "_________________________________________________________________\n",
      "max_pooling2d_4 (MaxPooling2 (None, 29, 29, 128)       0         \n",
      "_________________________________________________________________\n",
      "conv2d_5 (Conv2D)            (None, 29, 29, 256)       294912    \n",
      "_________________________________________________________________\n",
      "batch_normalization_5 (Batch (None, 29, 29, 256)       768       \n",
      "_________________________________________________________________\n",
      "activation_5 (Activation)    (None, 29, 29, 256)       0         \n",
      "_________________________________________________________________\n",
      "max_pooling2d_5 (MaxPooling2 (None, 14, 14, 256)       0         \n",
      "_________________________________________________________________\n",
      "flatten_1 (Flatten)          (None, 50176)             0         \n",
      "_________________________________________________________________\n",
      "dense_1 (Dense)              (None, 512)               25690624  \n",
      "_________________________________________________________________\n",
      "dense_2 (Dense)              (None, 256)               131328    \n",
      "_________________________________________________________________\n",
      "dense_3 (Dense)              (None, 3)                 771       \n",
      "=================================================================\n",
      "Total params: 26,304,547\n",
      "Trainable params: 26,303,395\n",
      "Non-trainable params: 1,152\n",
      "_________________________________________________________________\n",
      "WARNING:tensorflow:From C:\\Users\\user\\Anaconda3\\envs\\tensorflow\\lib\\site-packages\\keras\\backend\\tensorflow_backend.py:422: The name tf.global_variables is deprecated. Please use tf.compat.v1.global_variables instead.\n",
      "\n",
      "Train on 4904 samples, validate on 1226 samples\n",
      "Epoch 1/1000\n",
      "4904/4904 [==============================] - 16s 3ms/step - loss: 2.5762 - accuracy: 0.5165 - val_loss: 1.1899 - val_accuracy: 0.3744\n",
      "Epoch 2/1000\n",
      "4904/4904 [==============================] - 15s 3ms/step - loss: 0.8783 - accuracy: 0.6173 - val_loss: 1.2811 - val_accuracy: 0.4682\n",
      "Epoch 3/1000\n",
      "4904/4904 [==============================] - 15s 3ms/step - loss: 0.7404 - accuracy: 0.6794 - val_loss: 0.8630 - val_accuracy: 0.5693\n",
      "Epoch 4/1000\n",
      "4904/4904 [==============================] - 15s 3ms/step - loss: 0.6685 - accuracy: 0.6984 - val_loss: 0.6713 - val_accuracy: 0.6933\n",
      "Epoch 5/1000\n",
      "4904/4904 [==============================] - 15s 3ms/step - loss: 0.6174 - accuracy: 0.7290 - val_loss: 0.7629 - val_accuracy: 0.6558\n",
      "Epoch 6/1000\n",
      "4904/4904 [==============================] - 15s 3ms/step - loss: 0.5730 - accuracy: 0.7553 - val_loss: 0.9642 - val_accuracy: 0.5718\n",
      "Epoch 7/1000\n",
      "4904/4904 [==============================] - 15s 3ms/step - loss: 0.5530 - accuracy: 0.7575 - val_loss: 0.9115 - val_accuracy: 0.6509\n",
      "Epoch 8/1000\n",
      "4904/4904 [==============================] - 15s 3ms/step - loss: 0.5298 - accuracy: 0.7655 - val_loss: 0.7630 - val_accuracy: 0.6917s - ETA: 9s - loss: 0.5308 - accura - ETA: 7s - loss: 0 - ETA: 0s - loss: 0.5308 - accu\n",
      "Epoch 9/1000\n",
      "4904/4904 [==============================] - 15s 3ms/step - loss: 0.4913 - accuracy: 0.7859 - val_loss: 0.7121 - val_accuracy: 0.7341\n",
      "Epoch 10/1000\n",
      "4904/4904 [==============================] - 15s 3ms/step - loss: 0.4750 - accuracy: 0.7957 - val_loss: 0.7612 - val_accuracy: 0.6574\n",
      "Epoch 11/1000\n",
      "4904/4904 [==============================] - 15s 3ms/step - loss: 0.4409 - accuracy: 0.7989 - val_loss: 0.8467 - val_accuracy: 0.6925\n",
      "Epoch 12/1000\n",
      "4904/4904 [==============================] - 15s 3ms/step - loss: 0.3994 - accuracy: 0.8324 - val_loss: 0.8691 - val_accuracy: 0.6900\n",
      "Epoch 13/1000\n",
      "4904/4904 [==============================] - 15s 3ms/step - loss: 0.3916 - accuracy: 0.8263 - val_loss: 0.9299 - val_accuracy: 0.6615 12s - loss: 0.4032 - accuracy: 0 - - E - E - ETA: \n",
      "Epoch 14/1000\n",
      "4904/4904 [==============================] - 15s 3ms/step - loss: 0.3501 - accuracy: 0.8560 - val_loss: 0.7651 - val_accuracy: 0.7227\n",
      "Epoch 15/1000\n",
      "4904/4904 [==============================] - 15s 3ms/step - loss: 0.3262 - accuracy: 0.8589 - val_loss: 0.9537 - val_accuracy: 0.7243\n",
      "Epoch 16/1000\n",
      "4904/4904 [==============================] - 15s 3ms/step - loss: 0.2913 - accuracy: 0.8744 - val_loss: 1.0560 - val_accuracy: 0.6990\n",
      "Epoch 17/1000\n",
      "4904/4904 [==============================] - 15s 3ms/step - loss: 0.2636 - accuracy: 0.8893 - val_loss: 0.7585 - val_accuracy: 0.7219\n",
      "Epoch 18/1000\n",
      "4904/4904 [==============================] - 15s 3ms/step - loss: 0.2438 - accuracy: 0.8991 - val_loss: 1.5640 - val_accuracy: 0.6550\n",
      "Epoch 19/1000\n",
      "4904/4904 [==============================] - 15s 3ms/step - loss: 0.2033 - accuracy: 0.9174 - val_loss: 0.7859 - val_accuracy: 0.7178\n"
     ]
    }
   ],
   "source": [
    "model = get_model(256,256,3)\n",
    "model.summary()\n",
    "model.compile(optimizer= keras.optimizers.Adadelta(lr=1.0, rho=0.95, epsilon=1e-08, decay=0.0) , loss='categorical_crossentropy' , metrics=['accuracy'])\n",
    "early_stopping = EarlyStopping(monitor='val_accuracy', mode = \"max\",patience=10,restore_best_weights=True)\n",
    "history = model.fit(\n",
    "    X,\n",
    "    y=Y,\n",
    "    batch_size=32,\n",
    "    validation_data=(val_X, val_Y),\n",
    "    epochs=1000,\n",
    "    shuffle=True,\n",
    "    verbose=1,\n",
    "    callbacks=[early_stopping]\n",
    ")\n"
   ]
  },
  {
   "cell_type": "code",
   "execution_count": 18,
   "id": "2cbb6a66",
   "metadata": {},
   "outputs": [],
   "source": [
    "def plot_loss_accu(history):\n",
    "    loss = history.history['loss']\n",
    "    val_loss = history.history['val_loss']\n",
    "    epochs = range(len(loss))\n",
    "    plt.plot(epochs, loss, 'r')\n",
    "    plt.plot(epochs, val_loss, 'b')\n",
    "    #plt.title('Training and validation loss')\n",
    "    plt.ylabel('Loss %')\n",
    "    plt.xlabel('Epoch')\n",
    "    plt.legend(['train', 'val'], loc='upper right')\n",
    "    plt.grid(True)\n",
    "    plt.savefig('{}_loss.jpg'.format(\"Training and validation loss\"), dpi=100)\n",
    "    #plt.savefig('{}_loss.pdf'.format( EXP_NAME), dpi=300)\n",
    "    plt.show()\n",
    "    \n",
    "    loss = history.history['accuracy']\n",
    "    val_loss = history.history['val_accuracy']\n",
    "    epochs = range(len(loss))\n",
    "    plt.plot(epochs, loss, 'r')\n",
    "    plt.plot(epochs, val_loss, 'b')\n",
    "    #plt.title('Training and validation accuracy')\n",
    "    plt.ylabel('Accuracy %')\n",
    "    plt.xlabel('Epoch')\n",
    "    plt.legend(['train', 'val'], loc='lower right')\n",
    "    plt.grid(True)\n",
    "    plt.savefig('{}_acc.jpg'.format(\"Training and validation\"), dpi=100)\n",
    "    #plt.savefig('{}_acc.pdf'.format(output_path, EXP_NAME), dpi=300)\n",
    "    plt.show()"
   ]
  },
  {
   "cell_type": "code",
   "execution_count": 19,
   "id": "547907f2",
   "metadata": {},
   "outputs": [
    {
     "name": "stdout",
     "output_type": "stream",
     "text": [
      "(250, 256, 256, 3)\n"
     ]
    },
    {
     "data": {
      "image/png": "[encoded data removed]",
      "text/plain": [
       "<Figure size 432x288 with 1 Axes>"
      ]
     },
     "metadata": {
      "needs_background": "light"
     },
     "output_type": "display_data"
    },
    {
     "name": "stdout",
     "output_type": "stream",
     "text": [
      "range(0, 19)\n"
     ]
    },
    {
     "data": {
      "image/png": "[encoded data removed]",
      "text/plain": [
       "<Figure size 432x288 with 1 Axes>"
      ]
     },
     "metadata": {
      "needs_background": "light"
     },
     "output_type": "display_data"
    }
   ],
   "source": [
    "from keras.utils import plot_model\n",
    "plot_model(model, to_file='mangovgg.png')\n",
    "y_pred_max = []\n",
    "\n",
    "y_true = [np.argmax(i)for i in test_label]\n",
    "print(np.array(test_im).shape)\n",
    "for valdata in (test_im):\n",
    "    prediction = model.predict(np.expand_dims(valdata, axis=0))[0]\n",
    "    y_pred_max.append( np.argmax(prediction))\n",
    "    \n",
    "plot_loss_accu(history)"
   ]
  },
  {
   "cell_type": "code",
   "execution_count": 20,
   "id": "956f092c",
   "metadata": {},
   "outputs": [
    {
     "name": "stdout",
     "output_type": "stream",
     "text": [
      "Counter({1: 96, 0: 84, 2: 70})\n",
      "CN MCI AD\n",
      "              precision    recall  f1-score   support\n",
      "\n",
      "           A       0.83      0.62      0.71        84\n",
      "           B       0.70      0.68      0.69        96\n",
      "           C       0.70      0.94      0.80        70\n",
      "\n",
      "    accuracy                           0.73       250\n",
      "   macro avg       0.74      0.75      0.73       250\n",
      "weighted avg       0.74      0.73      0.73       250\n",
      "\n"
     ]
    },
    {
     "data": {
      "image/png": "[encoded data removed]",
      "text/plain": [
       "<Figure size 432x288 with 2 Axes>"
      ]
     },
     "metadata": {
      "needs_background": "light"
     },
     "output_type": "display_data"
    }
   ],
   "source": [
    "from sklearn.metrics import confusion_matrix, classification_report,ConfusionMatrixDisplay\n",
    "import collections\n",
    "print(collections.Counter(y_true))\n",
    "confusion_mtx = confusion_matrix(y_true, y_pred_max) \n",
    "print(\"CN MCI AD\")\n",
    "class_names = [\"A\", \"B\",\"C\"]\n",
    "disp = ConfusionMatrixDisplay(confusion_matrix=confusion_mtx,display_labels=class_names)\n",
    "disp.plot()\n",
    "\n",
    "print(classification_report(y_true, y_pred_max, target_names=class_names))\n"
   ]
  },
  {
   "cell_type": "code",
   "execution_count": null,
   "id": "eee5d375",
   "metadata": {},
   "outputs": [],
   "source": [
    "model = "
   ]
  }
 ],
 "metadata": {
  "kernelspec": {
   "display_name": "Python 3",
   "language": "python",
   "name": "python3"
  },
  "language_info": {
   "codemirror_mode": {
    "name": "ipython",
    "version": 3
   },
   "file_extension": ".py",
   "mimetype": "text/x-python",
   "name": "python",
   "nbconvert_exporter": "python",
   "pygments_lexer": "ipython3",
   "version": "3.8.8"
  }
 },
 "nbformat": 4,
 "nbformat_minor": 5
}
